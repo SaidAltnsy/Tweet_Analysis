#!/usr/bin/env python
# coding: utf-8

# In[1]:


print('hello')


# In[2]:


print("hello huseyin abi")


# jkkkkkkkkk
# 

# In[3]:


a= 5


# In[4]:


a


# In[5]:


a= 10


# In[6]:


a


# In[7]:


a+a


# In[8]:


a


# In[13]:


a=a+a


# In[14]:


a


# In[15]:


type(a)


# In[16]:


type(True)


# In[1]:


my_income=100
tax_rate=0.1
my_taxes=my_income*tax_rate


# In[2]:


my_taxes


# In[3]:


'hello'[1]


# immutability

# In[4]:


name="Sam"


# In[6]:


#name[0]='P'


# In[7]:


last_letters=name[1:]


# In[8]:


last_letters


# In[9]:


'P'+last_letters


# In[22]:


x= "hello world"


# In[24]:


x= x + " it is beautiful outside"


# In[25]:


x


# In[26]:


letter='z'


# In[27]:


10*'z'


# In[28]:


2+3


# In[29]:


'2'+'3'


# In[37]:


x="hello world"


# In[38]:


x=x.capitalize()


# In[39]:


x


# In[40]:


x


# In[41]:


x.upper()


# In[43]:


z=x.split()


# In[44]:


type(z)


# In[45]:


x.split('i')


# In[46]:


print('this is a string {}'.format('INSERTED'))


# In[47]:


print('The {} {} {}'.format('fox','brown','quick'))


# In[48]:


print('The {2} {1} {0}'.format('fox','brown','quick'))


# In[50]:


print('The {2} {0} {1}'.format('fox','brown','quick'))


# In[51]:


print('The {q} {b} {f}'.format(f='fox',b='brown',q='quick'))


# float formating method

# In[52]:


result=100/777


# In[53]:


result


# In[54]:


print("the result was {r:10.5f}".format(r=result))


# In[ ]:





# In[ ]:





# In[ ]:





# In[ ]:





# In[55]:


name= "Jose"


# In[57]:


print(f'Hello, his name is {name}')


# In[58]:


my_list= ['sas',100,23.85]


# In[59]:


len(my_list)


# In[60]:


mylist=['one','two','three']


# In[61]:


mylist[0]


# In[62]:


another_list= ['four','five']


# In[63]:


new_list=mylist+another_list


# In[64]:


new_list


# In[65]:


new_list[0]='one all caps'


# In[66]:


new_list


# In[67]:


new_list.append('six')


# In[68]:


new_list


# In[69]:


new_list.pop()


# In[70]:


new_list


# In[73]:


popped_item=new_list.pop()


# In[74]:


popped_item


# In[75]:


new_list


# In[76]:


new_list.pop(0)


# In[77]:


new_list


# In[78]:


new_list.append(2)


# In[79]:


new_list


# In[80]:


new_list=['a','e','x','b','c']
num_list=[1,55,3,14,5]


# In[81]:


new_list.sort()


# In[88]:


new_list


# In[89]:


my_sortedlist=new_list


# In[90]:


my_sortedlist


# In[84]:


new_list.sort()
my_sorted_list = new_list


# In[85]:


my_sorted_list


# In[86]:


num_list.reverse()


# In[87]:


num_list


# In[91]:


num_list.sort()


# In[92]:


num_list


# In[93]:


#dictionaries key;value


# In[94]:


my_dict = {'key1':'value1', 'key2':'value2'}


# In[95]:


my_dict


# In[96]:


my_dict['key1']


# In[97]:


prices_lookup= {'apple':2.99, 'oranges':1.99,'milk':5.80}


# In[98]:


prices_lookup['apple']


# In[99]:


d={'k1':123,'k2':[0,1,2],'k3':{'insidekey':100}}


# In[100]:


d['k2'][2]


# In[101]:


d['k3']['insidekey']


# In[102]:


d={'k1':100, 'k2':200}


# In[103]:


d['k3']=300


# In[104]:


d


# In[105]:


d['k1']='NEW VALUE'


# In[107]:


d


# In[108]:


d.keys()


# In[110]:


d.values()


# In[111]:


d.items()


# In[113]:


#tuples; immutable


# it can not be reassigned

# In[114]:


t=(1,2,3)


# In[115]:


mylist=[1,2,3]


# In[117]:


type(t)


# In[118]:


t


# In[119]:


t=('sasa',3,5)


# In[120]:


t[0]


# In[125]:


t=('s','a','b')


# In[126]:


t.count('a')


# In[127]:


t.index('a')


# In[128]:


mylist


# In[129]:


mylist[0]='NEW'


# In[130]:


mylist


# #sets: unordered collections of unique elements

# In[132]:


myset=set()


# In[133]:


myset


# In[134]:


myset.add(1)


# In[135]:


myset


# In[136]:


myset.add(2)


# In[137]:


myset


# In[138]:


myset.add(2) #unique values


# In[139]:


myset


# In[140]:


mylist=[1,1,1,1,1,2,2,2,2,3,33,3]


# In[141]:


set(mylist)


# In[143]:


set('missisippi')


# #booleans
# 

# In[145]:


True


# In[147]:


type(False)


# In[148]:


1>2


# In[149]:


1==1


# In[150]:


b= None


# In[151]:


type(b)


# In[152]:


b


# 26/04/2020 comparison operators

# In[1]:


1<2>3


# In[2]:


1<2 and 2>3


# In[3]:


1<2 and 2<3


# In[4]:


'h'=='h' and 2==2


# In[5]:


not 1==1


# In[11]:


# if elif if else
#For loops
#while loops


# In[12]:


hungry=True
if hungry:
    print("FEED ME")
else:
    print("i am not hungry")
    


# In[13]:


mylist=[1,2,3,4,5,6,7,8,9,10]


# In[14]:


for num in mylist:
    print(num)


# In[15]:


for num in mylist:
    print("hello")


# In[17]:


for num in mylist:
    if num%2==0:
        print(num)


# In[18]:


#add odd


# In[19]:


mystring='Hello World'


# In[20]:


for ghgh in mystring:
    print(ghgh)


# In[22]:


tup=(1,2,3)
for item in tup:
    print (item)


# tuple in the list

# In[24]:


mylist=[(1,2,3),(4,5,6)]


# In[27]:


for a,b,c in mylist:
    print (b)


# In[33]:


d={'k1':1, 'k2':2,'k3':5}


# In[39]:


for key,value in d.items():
    print(value)


# In[40]:


for key,value in d.items():
    print(key,value)


# In[43]:


x=0
while x<5:
    print(f'the current values x is {x}')
    x=x+1
else:
    print(" x is not less than 5")


# In[42]:


x+=1


# break, continue,pass

# In[44]:


x=[1,2,3]


# In[45]:


for item in x:
    #comment


# In[46]:


for item in x:
    #comment
    pass
print("end of my script")


# In[50]:


mystring="Sammy"
for let in mystring:
    if let=='a':
        continue
    print(let)


# In[52]:


x=5
while x<5:
    if x==2:
        break
    print(x)
    x+=1


# In[53]:


mylist=[1,2,3]


# In[54]:


for num in range(10):
    print(num)


# In[56]:


for num in range(3,10,2):
    print(num)


# In[57]:


list(range(0,11,2))


# In[58]:


index_count=0

for let in 'abcde':
    print('at index {}the letter is {}'.format(index_count,let))
    index_count+=1


# In[59]:


#enumarate 


# In[68]:


mylist1=[1,2,3,4,5]
mylist2=['a','b','c']
mylist3=[100,200,300]


# In[69]:


zip(mylist1,mylist2)


# In[70]:


for item in zip(mylist1,mylist2,mylist3):
    print(item)


# In[71]:


list(zip(mylist1,mylist2,mylist3))


# In[72]:


'x' in [1,2,3]


# In[73]:


'a' in ' a world'


# In[74]:


'mykey' in {'mykey':345}


# In[76]:


d={'mykey':345}
345 in d.values()


# In[77]:


#min, #max 


# In[78]:


from random import shuffle


# In[79]:


mylist=[1,2,3,4,5,6,7,8,9]


# In[82]:


shuffle(mylist)


# In[83]:


mylist


# In[84]:


from random import randint


# In[85]:


randint(0,100)


# In[88]:


my_num=randint(0,100)


# In[89]:


my_num


# In[91]:


result= input('favorite number: ')


# In[92]:


result


# In[93]:


int(result)


# In[95]:


mystring='hello'
mylist=[]
for letter in mystring:
    mylist.append(letter)
mylist    


# In[96]:


mystring='hello'
mylist=[letter for letter in mystring]


# In[97]:


mylist


# In[100]:


mylist=[let for let in 'world war']


# In[101]:


mylist


# In[104]:


mylist=[num**2 for num in range(0,11)]


# In[105]:


mylist


# In[114]:


mylist=[num for num in range(0,11) if num%2==0]


# In[115]:


mylist


# In[116]:


results=[x if x%2==0 else 'ODD' for x in range (0,11)]


# In[117]:


results


# In[118]:


mylist=[]
for x in [2,4,6]:
    for y in [1,100,10000]:
        mylist.append(x*y)


# In[119]:


mylist


# # methods and documentation

# mylist. # HIT TAB
# mylist.insert #hit shift + tab
# docs.python.org
# FAQ
# LIBRARY REFERENCES
# STACKOVERFLOW
# common sequence operations
# 

# In[121]:


help(mylist.insert)


# In[122]:


mylist.insert(2,'ses')


# In[123]:


mylist


# #Functions

# In[125]:


def name_func():
    """ Docstring explains function
    """
    print("Hello")
    return 5


# In[126]:


name_func()


# In[127]:


def name_func():
    print('Hello')


# In[129]:


name_func


# In[130]:


name_func()


# In[131]:


help(name_func)


# In[132]:


def name_func():
    '''
    input:name
    output: Hello...
    '''
    print('Hello')


# In[133]:


help(name_func)


# In[136]:


def say_hello(name= 'Name'):
    print('hello '+ name)


# In[137]:


say_hello()


# In[138]:


say_hello('murat')


# In[140]:


def add(n1,n2):
    return n1+n2


# In[141]:


result=add(20,30)


# In[142]:


result


# In[154]:


def dog_check(mystring):
    return 'dog' in mystring.lower()


# In[155]:


dog_check('My dog ran away')


# In[156]:


dog_check('Dog')


# In[158]:


def dog_check(mystring):
    return 'dog' in mystring.lower()


# In[164]:


#PIG LATIN
def pig_latin(word):
    first_letter=word[0]
    #check if vowel
    if first_letter in 'aeiou':
        pig_word=word+'ay'
    else:
        pig_word=word[1:]+word[0]+'ay'
        
    return pig_word    
        


# In[165]:


pig_latin('sdwdw')


# *args and **kwargs
# arguments and key words arguments

# In[166]:


def myfunc(a,b):
    #returns 5% of the sum of the a and b
    return sum((a,b))*0.05


# In[167]:


myfunc(40,60)


# In[172]:


def myfunc(a,b,c=0,d=0,e=0):
    #returns 5% of the sum of the a and b
    return sum((a,b,c,d,e))*0.05


# In[173]:


myfunc(40,60,100)


# In[174]:


def myfunc(*args):
    return sum (args)*0.05


# In[175]:


myfunc(20,50)


# In[178]:


def myfunc(*n):
    for item in n:
        print(item)


# In[180]:


myfunc(40,0,60,0)


# In[185]:


def myfunc(**kwargs):
    print(kwargs)
    if 'fruit' in kwargs:
        print('My fruit of choice is {}'.format(kwargs['fruit']))
    else:
        print('there is no fruit choice heree')


# In[186]:


myfunc(fruit='apple',veggie='lettuce')
    


# In[187]:


def my_func(*args,**kwargs):
    print(args)
    print(kwargs)
    print('I would like {} {}'.format(args[0],kwargs['food']))


# In[189]:


my_func(10,20,30,fruit='orange',food='eggs',animal='dog')


# In[213]:


def myfunc(string):
    new_string = ''
    for x in range(len(string)):
        if (x+1)%2==0:
            new_string += string[x].upper()
        else:
            new_string += string[x].lower()
    return new_string
   
   


# In[214]:


myfunc('ahmet')


# In[199]:


x= 'asdds'


# In[200]:


x[0]


# In[215]:


help(x.join)


# In[220]:


def myfunc(x):
    out = []
    for i in range(len(x)):
        if i%2==0:
            out.append(x[i].lower())
        else:
            out.append(x[i].upper())
    return ''.join(out)


# In[221]:


myfunc('ahemt')


# LAMBDA EXPRESSIONS MAP AND FILTER

# In[222]:


def square(num):
    return num**2


# In[223]:


my_nums=[1,2,3,4,5]


# In[225]:


for item in map(square,my_nums):
    print (item)


# In[226]:


list(map(square,my_nums))


# In[227]:


def splicer(mystring):
    if len(mystring)%2==0:
        return 'even'
    else:
        return mystring[0]


# In[228]:


names=['Andy','Eve','Sally']


# In[229]:


list(map(splicer,names))


# In[231]:


def check_even(num):
    return num%2==0
    


# In[232]:


mynums=[1,2,3,4,5,6]


# In[233]:


filter(check_even,mynums)


# In[235]:


for n in filter(check_even,mynums):
    print(n)


# In[237]:


def square(num): return num**2


# In[238]:


square = lambda num : num**2


# In[239]:


square(5)


# In[240]:


list(map(lambda num: num**2,mynums))


# In[242]:


names


# In[243]:


list(map(lambda name:name[0],names))


# #nested statements and scope

# In[2]:


x=25
def printer():
    x=50
    return x


# In[3]:


print(x)


# In[4]:


print(printer())


# LEGB RULE: Local,enclosing function locas,global(module),built-in(PYTHON)

# In[6]:


#lambda num:num**2


# In[7]:


name =' THIS IS A GLOBAL STRING'
def greet():
    name='Sammy'
    def hello():
        print ('Hello '+ name)
    hello()
greet()    
        


# In[8]:


greet()


# In[10]:


#global
name =' THIS IS A GLOBAL STRING'
def greet():
    #enclosing
    #name='Sammy'
    def hello():
        #local
        name='i am a local'
        print ('Hello '+ name)
    hello()
greet()    
        


# In[11]:


help(len)


# In[12]:


x= 50
def func(x):
    print(f'X is{x}')


# In[13]:


func(x)


# In[14]:


x= 50
def func(x):
    print(f'X is{x}')
    #LOCAL REASSIGNMENT
    x=200
    print(f'I JUST LOCALLY CHANGED X TO {x}')


# In[15]:


x= 50
def func():
    global x
    print(f'X is{x}')
    #LOCAL REASSIGNMENT
    x='new value'
    print(f'I JUST LOCALLY CHANGED X TO {x}')


# In[16]:


print(x)


# In[17]:


func()


# In[18]:


print(x)


# In[21]:


x= 50
def func(x):
    
    print(f'X is {x}')
    #LOCAL REASSIGNMENT
    x='new value'
    print(f'I JUST LOCALLY CHANGED X TO {x}')
    return x


# In[22]:


x= func(x)


# s = s.replace('3','5') switch '3' to '5'

# In[1]:


def display_board(board):
    for i in range(1,10):
        print(board[i], end=" ") #yanyana yazdiriyor
        if i % 3 == 0:
            print()  #passing to the next line                    


# OBJECT/ORIENTED PROGRAMMING
# own objects and attributes

# In[2]:


class Sample():
    pass


# In[3]:


my_sample= Sample()


# In[4]:


type(my_sample)


# In[6]:


class Dog():
    def __init__(self,breed):
        self.breed=breed


# In[7]:


my_dog= Dog(breed='Lab')


# In[8]:


type(my_dog)


# In[9]:


my_dog.breed


# In[14]:


class Dog():
    def __init__(self,mybreed):
        #attributes
        #we take in the argument
        #assign it using self.attribute_name
        self.my_attribute=mybreed


# In[15]:


my_dog=Dog(mybreed='Huskie')


# In[16]:


type(my_dog)


# In[18]:


my_dog.my_attribute


# In[19]:


class Dog():
    def __init__(self,mybreed,name,spots):
        #attributes
        #we take in the argument
        #assign it using self.attribute_name
        self.my_attribute=mybreed
        self.name=name
        #expect boolean
        self.spots=spots


# In[21]:


my_dog= Dog(mybreed='lab',name='Sammy',spots=False)


# In[22]:


my_dog.name


# In[23]:


#part 2


# In[40]:


class Dog():
    #CLASS OBJECT attribute
    #same for any instance of a class
    species= 'mammal'
    
    def __init__(self,mybreed,name,spots):
        #attributes
        #we take in the argument
        #assign it using self.attribute_name
        self.my_attribute=mybreed
        self.name=name
        #expect boolean
        self.spots=spots
#Operations / actions ---> methods
    def bark(self,number):
        print("WOOF! MY name is {} and the number is {}".format(self.name,number))


# In[41]:


my_dog= Dog(mybreed='lab',name='Sammy',spots=False)


# In[42]:


my_dog.species


# In[43]:


my_dog.bark


# In[44]:


my_dog.bark(5)


# In[ ]:





# In[ ]:





# In[59]:


class Circle():
    
    #class object attribute
    pi=3.14
    def __init__(self,radius=1):
        
        self.radius=radius
        self.area=radius*radius*Circle.pi
    #method
    def get_circumference(self):
        return self.radius* self.pi*2
    


# In[60]:


my_circle= Circle(30)


# In[61]:


my_circle.pi


# In[62]:


my_circle.radius


# In[63]:


my_circle.get_circumference()


# In[65]:


my_circle.area


# # inheritance 

# In[67]:


class Animal():
    def __init__(self):
        print("ANIMAL CREATED")
    def who_am_i(self):
        print("i am an animal")
    def eat(self):
        print("i am eating")


# In[68]:


myanimal=Animal()


# In[69]:


myanimal.eat()


# In[70]:


myanimal.who_am_i()


# In[ ]:


class Animal():
    def __init__(self):
        print("ANIMAL CREATED")
    def who_am_i(self):
        print("i am an animal")
    def eat(self):
        print("i am eating")


# In[77]:


class Dog(Animal):#derived class
    def __init__(self):
        Animal.__init__(self)
        print("dog created")
    def who_am_i(self):
        print(" i am a dog")


# In[78]:


mydog=Dog()


# In[79]:


mydog.eat()


# In[80]:


mydog.who_am_i()


# # polymorphism

# In[92]:


class Dog():
    
    def __init__(self,name):
        self.name=name
    def speak(self):
        return self.name+ " says woof!"


# In[93]:


class Cat():
    
    def __init__(self,name):
        self.name=name
    def speak(self):
        return self.name + " says meow!"


# In[119]:


niko= Dog("niko")
felix=Cat("felix")
print(niko.speak())


# In[98]:


for pet in [niko,felix]:
    print(type(pet))
    print(pet.speak())


# In[99]:


def pet_speak(pet):
    print(pet.speak())


# In[100]:


pet_speak(niko)


# In[101]:


pet_speak(felix)


# In[104]:


class Animal():
    def __init__(self,name):
        self.name=name
    def speak(self):
        raise NotImplementedError("Subclass must implement this abstract method")


# In[106]:


myanimal= Animal('fred')


# In[107]:


myanimal.speak()


# In[113]:


class Dog(Animal):
    
    def speak(self):
        
        return self.name+ " says woof!"


# In[114]:


class Cat(Animal):
    
    def speak(self):
        return self.name+ " says meow!"


# In[115]:


fido=Dog("Fido")


# In[116]:


isis= Cat("Isis")


# In[117]:


print(fido.speak())


# In[118]:


print(isis.speak())


# # Special (magic/dunder) methods

# In[120]:


mylist= [1,2,3]


# In[121]:


len(mylist)


# In[122]:


class Sample():
    pass


# In[123]:


mysample=Sample()


# In[125]:


print(mysample)


# In[126]:


type(mysample)


# In[127]:


len(mysample)


# In[128]:


print(mylist)


# In[ ]:








# In[152]:


class Book():
    def __init__(self,title,author,pages):
        self.title=title
        self.author=author
        self.pages=pages
    def __str__(self):
        return f"{self.title} by {self.author}"
    def __len__(self):
        return self.pages
    def __del__(self):
        print("A book object has been deleted")


# In[153]:


b=Book('Python rocks', 'Jose', 200)


# In[154]:


print(b)


# In[155]:


str(b)


# In[156]:


len(b)


# In[157]:


del b 


# In[158]:


b


# # modules and packages

# In[160]:


#PyPi, pip install


# In[161]:


#cmd   pip install colorama


# In[162]:


from colorama import Fore


# In[163]:


print(Fore.RED+ "SWITCH TO RED")


# In[164]:


print("ssss")


# In[165]:


# own modules and packages


# In[ ]:




