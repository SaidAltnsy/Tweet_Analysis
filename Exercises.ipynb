{
 "cells": [
  {
   "cell_type": "code",
   "execution_count": 124,
   "metadata": {},
   "outputs": [],
   "source": [
    "str1 = 'hollohodayisthursdayandwehavahsecendlecturewithourCommander'"
   ]
  },
  {
   "cell_type": "code",
   "execution_count": 125,
   "metadata": {},
   "outputs": [],
   "source": [
    "str3 = 'Ayayy balalbn nahide esti geccti'"
   ]
  },
  {
   "cell_type": "code",
   "execution_count": 126,
   "metadata": {},
   "outputs": [],
   "source": [
    "def palindrome(str2):\n",
    "    longest_word = ''\n",
    "    word_list = list(str2.split(' '))\n",
    "    for word in word_list:\n",
    "        if len(word) > len(longest_word):\n",
    "            longest_word = word\n",
    "           \n",
    "    string1=str2.replace(\" \",\"\")\n",
    "    my_list =[]\n",
    "    for x in range(1,len(longest_word)): \n",
    "        for i in range(0,len(string1)-x):\n",
    "            if string1[i:(i+x)]==string1[i:(i+x)][::-1] and len(string1[i:(i+x)])>1:\n",
    "                my_list.append(string1[i:(i+x)])\n",
    "    return(my_list)\n",
    "            \n",
    "        \n",
    "            \n",
    "        "
   ]
  },
  {
   "cell_type": "code",
   "execution_count": 127,
   "metadata": {},
   "outputs": [
    {
     "data": {
      "text/plain": [
       "['ll', 'mm', 'oho', 'aya', 'ava', 'ece', 'ollo', 'havah', 'holloh']"
      ]
     },
     "execution_count": 127,
     "metadata": {},
     "output_type": "execute_result"
    }
   ],
   "source": [
    "palindrome(str1)"
   ]
  },
  {
   "cell_type": "code",
   "execution_count": null,
   "metadata": {},
   "outputs": [],
   "source": []
  }
 ],
 "metadata": {
  "kernelspec": {
   "display_name": "Python 3",
   "language": "python",
   "name": "python3"
  },
  "language_info": {
   "codemirror_mode": {
    "name": "ipython",
    "version": 3
   },
   "file_extension": ".py",
   "mimetype": "text/x-python",
   "name": "python",
   "nbconvert_exporter": "python",
   "pygments_lexer": "ipython3",
   "version": "3.7.6"
  }
 },
 "nbformat": 4,
 "nbformat_minor": 4
}
